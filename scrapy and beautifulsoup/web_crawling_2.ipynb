{
  "nbformat": 4,
  "nbformat_minor": 0,
  "metadata": {
    "colab": {
      "provenance": []
    },
    "kernelspec": {
      "name": "python3",
      "display_name": "Python 3"
    },
    "language_info": {
      "name": "python"
    }
  },
  "cells": [
    {
      "cell_type": "code",
      "execution_count": null,
      "metadata": {
        "colab": {
          "base_uri": "https://localhost:8080/"
        },
        "id": "ILq-26Ecj6y5",
        "outputId": "772178dd-678c-467f-eab9-c3fbd236704d"
      },
      "outputs": [
        {
          "output_type": "stream",
          "name": "stdout",
          "text": [
            "Looking in indexes: https://pypi.org/simple, https://us-python.pkg.dev/colab-wheels/public/simple/\n",
            "Requirement already satisfied: requests in /usr/local/lib/python3.7/dist-packages (2.23.0)\n",
            "Requirement already satisfied: urllib3!=1.25.0,!=1.25.1,<1.26,>=1.21.1 in /usr/local/lib/python3.7/dist-packages (from requests) (1.24.3)\n",
            "Requirement already satisfied: idna<3,>=2.5 in /usr/local/lib/python3.7/dist-packages (from requests) (2.10)\n",
            "Requirement already satisfied: chardet<4,>=3.0.2 in /usr/local/lib/python3.7/dist-packages (from requests) (3.0.4)\n",
            "Requirement already satisfied: certifi>=2017.4.17 in /usr/local/lib/python3.7/dist-packages (from requests) (2022.6.15)\n"
          ]
        }
      ],
      "source": [
        "pip install requests"
      ]
    },
    {
      "cell_type": "code",
      "source": [
        "pip install bs4"
      ],
      "metadata": {
        "colab": {
          "base_uri": "https://localhost:8080/"
        },
        "id": "iJwMQlntkGdk",
        "outputId": "074c8dc4-abe0-4209-b712-07bd26ae6ba6"
      },
      "execution_count": null,
      "outputs": [
        {
          "output_type": "stream",
          "name": "stdout",
          "text": [
            "Looking in indexes: https://pypi.org/simple, https://us-python.pkg.dev/colab-wheels/public/simple/\n",
            "Requirement already satisfied: bs4 in /usr/local/lib/python3.7/dist-packages (0.0.1)\n",
            "Requirement already satisfied: beautifulsoup4 in /usr/local/lib/python3.7/dist-packages (from bs4) (4.6.3)\n"
          ]
        }
      ]
    },
    {
      "cell_type": "code",
      "source": [
        "# Python3 program for a word frequency\n",
        "# counter after crawling/scraping a web-page\n",
        "import requests\n",
        "from bs4 import BeautifulSoup\n",
        "import operator\n",
        "from collections import Counter\n",
        "\n",
        "'''Function defining the web-crawler/core\n",
        "spider, which will fetch information from\n",
        "a given website, and push the contents to\n",
        "the second function clean_wordlist()'''\n",
        "\n",
        "\n",
        "def start(url):\n",
        "\n",
        "\t# empty list to store the contents of\n",
        "\t# the website fetched from our web-crawler\n",
        "\twordlist = []\n",
        "\tsource_code = requests.get(url).text\n",
        "\n",
        "\t# BeautifulSoup object which will\n",
        "\t# ping the requested url for data\n",
        "\tsoup = BeautifulSoup(source_code, 'html.parser')\n",
        "\n",
        "\t# Text in given web-page is stored under\n",
        "\t# the <div> tags with class <entry-content>\n",
        "\tfor each_text in soup.findAll('div', {'class': 'entry-content'}):\n",
        "\t\tcontent = each_text.text\n",
        "\n",
        "\t\t# use split() to break the sentence into\n",
        "\t\t# words and convert them into lowercase\n",
        "\t\twords = content.lower().split()\n",
        "\n",
        "\t\tfor each_word in words:\n",
        "\t\t\twordlist.append(each_word)\n",
        "\t\tclean_wordlist(wordlist)\n",
        "\n",
        "# Function removes any unwanted symbols\n",
        "\n",
        "\n",
        "def clean_wordlist(wordlist):\n",
        "\n",
        "\tclean_list = []\n",
        "\tfor word in wordlist:\n",
        "\t\tsymbols = \"!@#$%^&*()_-+={[}]|\\;:\\\"<>?/., \"\n",
        "\n",
        "\t\tfor i in range(len(symbols)):\n",
        "\t\t\tword = word.replace(symbols[i], '')\n",
        "\n",
        "\t\tif len(word) > 0:\n",
        "\t\t\tclean_list.append(word)\n",
        "\tcreate_dictionary(clean_list)\n",
        "\n",
        "# Creates a dictionary containing each word's\n",
        "# count and top_20 occurring words\n",
        "\n",
        "\n",
        "def create_dictionary(clean_list):\n",
        "\tword_count = {}\n",
        "\n",
        "\tfor word in clean_list:\n",
        "\t\tif word in word_count:\n",
        "\t\t\tword_count[word] += 1\n",
        "\t\telse:\n",
        "\t\t\tword_count[word] = 1\n",
        "\n",
        "\t''' To get the count of each word in\n",
        "\t\tthe crawled page -->\n",
        "\n",
        "\t# operator.itemgetter() takes one\n",
        "\t# parameter either 1(denotes keys)\n",
        "\t# or 0 (denotes corresponding values)\n",
        "\n",
        "\tfor key, value in sorted(word_count.items(),\n",
        "\t\t\t\t\tkey = operator.itemgetter(1)):\n",
        "\t\tprint (\"% s : % s \" % (key, value))\n",
        "\n",
        "\t<-- '''\n",
        "\n",
        "\tc = Counter(word_count)\n",
        "\n",
        "\t# returns the most occurring elements\n",
        "\ttop = c.most_common(10)\n",
        "\tprint(top)\n",
        "\n",
        "\n",
        "# Driver code\n",
        "if __name__ == '__main__':\n",
        "\turl = \"https://www.geeksforgeeks.org/programming-language-choose/\"\n",
        "\t# starts crawling and prints output\n",
        "\tstart(url)\n"
      ],
      "metadata": {
        "id": "WppULGtWkRwr"
      },
      "execution_count": null,
      "outputs": []
    }
  ]
}