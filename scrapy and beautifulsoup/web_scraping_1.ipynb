{
  "nbformat": 4,
  "nbformat_minor": 0,
  "metadata": {
    "colab": {
      "provenance": []
    },
    "kernelspec": {
      "name": "python3",
      "display_name": "Python 3"
    },
    "language_info": {
      "name": "python"
    }
  },
  "cells": [
    {
      "cell_type": "code",
      "execution_count": null,
      "metadata": {
        "colab": {
          "base_uri": "https://localhost:8080/"
        },
        "id": "e3IHWQuBTLG6",
        "outputId": "a37468f0-c0c7-4aa6-a0af-d2904f07e7e5"
      },
      "outputs": [
        {
          "output_type": "stream",
          "name": "stdout",
          "text": [
            "Looking in indexes: https://pypi.org/simple, https://us-python.pkg.dev/colab-wheels/public/simple/\n",
            "Requirement already satisfied: requests in /usr/local/lib/python3.7/dist-packages (2.23.0)\n",
            "Requirement already satisfied: chardet<4,>=3.0.2 in /usr/local/lib/python3.7/dist-packages (from requests) (3.0.4)\n",
            "Requirement already satisfied: idna<3,>=2.5 in /usr/local/lib/python3.7/dist-packages (from requests) (2.10)\n",
            "Requirement already satisfied: certifi>=2017.4.17 in /usr/local/lib/python3.7/dist-packages (from requests) (2022.6.15)\n",
            "Requirement already satisfied: urllib3!=1.25.0,!=1.25.1,<1.26,>=1.21.1 in /usr/local/lib/python3.7/dist-packages (from requests) (1.24.3)\n"
          ]
        }
      ],
      "source": [
        "pip install requests\n"
      ]
    },
    {
      "cell_type": "code",
      "source": [
        "import requests\n",
        "import bs4\n",
        "s = bs4.BeautifulSoup()\n",
        "url = \"https://api.ipify.org\"\n",
        "res = requests.get(url)\n",
        "res.status_code\n",
        "res.text"
      ],
      "metadata": {
        "colab": {
          "base_uri": "https://localhost:8080/",
          "height": 36
        },
        "id": "4XL7Lwf_TZff",
        "outputId": "8412c0eb-b637-45e6-fb18-68eac9a3243d"
      },
      "execution_count": null,
      "outputs": [
        {
          "output_type": "execute_result",
          "data": {
            "text/plain": [
              "'34.90.10.132'"
            ],
            "application/vnd.google.colaboratory.intrinsic+json": {
              "type": "string"
            }
          },
          "metadata": {},
          "execution_count": 4
        }
      ]
    },
    {
      "cell_type": "code",
      "source": [
        "url = \"https://i.pinimg.com/originals/23/b9/4b/23b94bfecddc840c0ab5c4eaeaeeb974.jpg\"\n",
        "res = requests.get(url)\n",
        "res.status_code\n",
        "bin_data = res.content\n",
        "with open(\"abc.jpg\",'wb') as f:\n",
        "  f.write(bin_data)"
      ],
      "metadata": {
        "id": "T6EvwWgYT38s"
      },
      "execution_count": null,
      "outputs": []
    }
  ]
}