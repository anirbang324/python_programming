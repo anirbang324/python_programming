{
  "nbformat": 4,
  "nbformat_minor": 0,
  "metadata": {
    "colab": {
      "provenance": []
    },
    "kernelspec": {
      "name": "python3",
      "display_name": "Python 3"
    },
    "language_info": {
      "name": "python"
    }
  },
  "cells": [
    {
      "cell_type": "markdown",
      "source": [],
      "metadata": {
        "id": "cwIBGrvkRIot"
      }
    },
    {
      "cell_type": "code",
      "execution_count": null,
      "metadata": {
        "id": "5vDMnW3RpK6u",
        "colab": {
          "base_uri": "https://localhost:8080/"
        },
        "outputId": "2496631c-bea5-4e67-de9e-32454792eef3"
      },
      "outputs": [
        {
          "output_type": "stream",
          "name": "stdout",
          "text": [
            "Looking in indexes: https://pypi.org/simple, https://us-python.pkg.dev/colab-wheels/public/simple/\n",
            "Requirement already satisfied: requests in /usr/local/lib/python3.7/dist-packages (2.23.0)\n",
            "Requirement already satisfied: urllib3!=1.25.0,!=1.25.1,<1.26,>=1.21.1 in /usr/local/lib/python3.7/dist-packages (from requests) (1.24.3)\n",
            "Requirement already satisfied: certifi>=2017.4.17 in /usr/local/lib/python3.7/dist-packages (from requests) (2022.6.15)\n",
            "Requirement already satisfied: chardet<4,>=3.0.2 in /usr/local/lib/python3.7/dist-packages (from requests) (3.0.4)\n",
            "Requirement already satisfied: idna<3,>=2.5 in /usr/local/lib/python3.7/dist-packages (from requests) (2.10)\n"
          ]
        }
      ],
      "source": [
        "pip install requests"
      ]
    },
    {
      "cell_type": "code",
      "source": [
        "import requests\n",
        "url = \"https://api.ipify.org/\"\n",
        "res = requests.get(url)\n",
        "res.status_code\n",
        "# res.text"
      ],
      "metadata": {
        "colab": {
          "base_uri": "https://localhost:8080/"
        },
        "id": "xxFDRwt-rHrc",
        "outputId": "0d3e793d-38a3-4f1b-c6b4-e33459633fa1"
      },
      "execution_count": null,
      "outputs": [
        {
          "output_type": "execute_result",
          "data": {
            "text/plain": [
              "200"
            ]
          },
          "metadata": {},
          "execution_count": 5
        }
      ]
    },
    {
      "cell_type": "code",
      "source": [
        "import requests\n",
        "img_url = \"data:image/jpeg;base64,/9j/4AAQSkZJRgABAQAAAQABAAD/2wCEAAoHCBUWFRgWFhYYGRgaGBgZGBgZGBgaHBgaGBgaGRgYGBkcIy4lHB4rIRkYJjgnKy8xNTU1GiQ7QDszPy40NTEBDAwMEA8QHhISHzQrJSE0NDQ0NDQ0NDQ0NDQ0NDQ0NDQ0NDQ0NDQ0NDQ0NDQ0NDQ0NDQ0NDQ0NDQ0NDQ0NDQ0NP/AABEIALcBEwMBIgACEQEDEQH/xAAbAAABBQEBAAAAAAAAAAAAAAADAAECBAUGB//EADsQAAEDAQUFBQYFBAMBAQAAAAEAAhEDBBIhMUEFUWFxkQYigaHRE0JSseHwFDJiksEVgqLSU3LxQxb/xAAZAQADAQEBAAAAAAAAAAAAAAAAAQIDBAb/xAAgEQADAQACAgMBAQAAAAAAAAAAARECEiEDMRNBUWEi/9oADAMBAAIRAxEAPwCjcR2WR3JXm2ZoMwi3V2U8qsmc2zP3hJ9N40B5LRupXUUfEyr/AATXAcsCrNoowZjBCuIpMAOpEaJritNkKTWg5iEUIU7idshWXUd2KjcRQgzDPNQq09UQNVhoBRRwz7iVxWnU4UbiKKAAxTaxFDEVlOUUaQJlNGayERjI5ozROY8UqaLJWDFNtNWmsaiCklSlkqCmpCmrYppxTRyLWSn7NRNNXjTUTTRyB5KDqaiGBXXMQ3MRSHkoPYhupq69iG5iqmbyUixQLFcLE3st+CKTCpcU2UdTkj3QOKZwlFFARcBkEmuO5EuItOlqihAd08Eys3UyKOFhtbgfBEFRu/qnDISNNZ00jHEbwnuoZohN7AIogjmjVBFBgOfhKl7AKTaARQgCpSb7pQ3DQKw+kRkh3EUTQENUoBz6olxK4ikwEWJrqO0QnuA8EUcBMOhUjRCkaaYMRQIiiVNjUVjSMwURrAUUtIG1iK1iI2kURrEUtIg1iKxiIxiI1immqRAN3hP7MIzWKxRsb34tbI34AeaKWsN+igWKJYtCvY3sxc0gb8x1CrliKGsNeyk5iG6mrzqfBDNJOmbyZ72IZpq+8DcgPTpnpFQ0wM0J4lWXMQyxFM2ivcTtZKM2nKNcACKSslYUwMSkXbgiimSnIAyRRwFcO9JTkpIoi7CUJFxSkqKaUa6ldSko7LLUIvBpj58hmUPSQALqV1Oym5xhoJPALQs+y3n85AG7M+iT2l7BJszrqi5krXtWzgBLJMZg68Qs66hbWvQPMKppFNcVu6ldTooAZZydR80VtnAzEpjT3KbXnVFBQE6zY4ZKdKjHNFDwphOjSQ1yUL8OeashqI0IpaRUZKOwpezMnBSYFNKygjANyI1gUGhFaEU1yGslnvPDTlryGK6FrQMBluWFY33Hhx8eRwW8DKlnb4JH+jOaDgclzlsoXHOaMtORxC6Qlc/bKl9znDLTkMEJi88iKTghPCsuCG4Kqceiq5qA9qtuahFiKZaRUc1RDcVbLQEJxTpk0QunfgouACmSVYZSEcUUXsp3HHRQcyM1pXUz2TmnR8TNup1d/C8UyVFDVobMYPzd49B6qZ2dT+E9SrFortY0vcYABJ8BOA1VejbQ5rXARIBxzxC5bp9m3FBKNjYzENx3nE+G5WFXFqGqRtQ0Sab9h0iwkgMtAOeCK5wGJOCIMkq1exsfjkd4/kaqTrS3TFSZWadQOaFV2LpmXUsLwcAHDeMPIoRovGbHDwK2nV2jXomFoatFvX4LijEhSurYqMY+Jg7tDy5KTaDB7regT+T+BxMI00wp8VvPotIggfJU6mzz7rvB3qE15E/YnkotB3ojXHciuszx7vTH5KI4ghVyTBdEm1ERrwhtIU2gIpoicDRSamACJTZKKWhgrNCq9uDSY3RKkykwceaOKih6NMtrsr2iq84PJ5RAVZwC0HuBEFVn0G6HqmmPTbKrgENxG5Wfw51IRWUGDjzyQ9JGTRVs1lv4nBvmeSvsYGiAAB95qaYlZ602KQwrdZbjsPynL0QaVIGSV0DwCIOIWfabBqw+BPyKrO/0yee6Um0wE5I3hSpWNzjBEDUn+N602WVgEXWniQCfEq9bSElTNo0y890TvOg8VcZYBHeJ8PqrTWgCAABuCks9eTT9DWTP/pY+M9EloJKeev0IjzPaW2KlSQXQ3IjOZ3k4q5YtvXWBpBJGsjHwXM16sxHki2aoAMZ84XYs5bgaTWf6dWzbYPDmiDa3FvVcs+ruQzaAHGcoVPGEY5WtHX/1I8EztpOOErkvanedfNEp1zOZx4o+PIm9JHSm1E6pxtAj3vP1WBfdvPVDc6FXxr7I5P6OkO0nDN3yS/HuPvHqubJGHFSa4jIo+LIc2dI3aThrPNWWbZdqSPFcp7R289VElJ+HLH8jOwO2N7/MID+0LR7zjy+q5VJC8GQ+XR1Le04HxnmB6p3drX6Ux4uOPQYLlgiNT+HH4C8mv07QdpKR3/3D0lM3a9NxiWzyI+i5AIjXKfhyvRovLo7JtqCI21hchTruGRKsNtbt6T8RovKdWLXxUX28Bcv+KdvS9sd56pfEV8p0h2lw8042iNcFzQrneoOrneUfEhfKzpnbSbxVaptloMQSsD2rt6E+omvFkl+Rmjatu1SRccWAaDGecjFTb2mf7zZ3kOI8iFhuchuK0+LM9GT3r9OwpbYa4SH+BMEeCKNpHeuGcmc7ecOazfgyHys69/aJgMX+jSfOEA9qGg4B58B6rkw8b1JNeHAn5NHXs7UsObXDofkVRtnaZ7jFMXB8Rgu6HAea59QdUA1VLw4TsF8mn0aTrbVOJqPx/WfVJY34sbkkXBXDf4Z0ozKmSpgozHD7CyTO3WaXnuEKoX95F9oRxVOqTOPqhuhnCTaNFhw9E6r2d4jAkjkY6wi3lqn0c7w+UJykk6AmkJ0lqEg5SvmIQ7ya8iihZbW3o1NpdMZCMf8AsYHmqJckKkZFOk8EbH9OqfAU/wDTavwK9s/tk9oDarGv/UIa7xGR8lu2XtTZ3wLwYTo8R5yR5qk0Hxo5UbLq/AjM2VV1b5rvGVARILSE9/iEw4I4M7NrH3fNSGzKvw+a7u9yTh3Lz9EQfFHDDZtX4fNTGzavw+a7efv7CV4b/volCuJxX9Oq/D5pf06r8Pmuze2cnkco9Fl2zZVEi9Ue+N76j4HUwEoHE578I/h+4KD7M5uJLQOL2hXn2TZ8x7dn75HWYVun2eszhLHBw3hzj5gqex8Dna1VvxDwk/JVnWgLrHdmaP25/qhnsxS3/wCT04xcUck60cFB1fh5rrndlqZ1j+5/8hY21dlWej+at3vgb3nHwuiOZIQ6g4IxH1iUJzt5Q6j5OEgaTn4oSl6GsBzUCGa+OCA98FCc7FQ9Gqwi+6qhvqmFBuShWKbYs4VIe0SQZSUQ2ItVmjdzJ8AYPD3SP/EA2c6QVJp0+4U00apaqvM4dPVVrVVLjMAZwAMBjkDr4yiAzrHHH+EEsJIaIxIGe8wkn0DUZ1GxrcGkGpX7txha2mxz8gG3HAtm8BmQc8ycItdp30wA5rGgkNBaSL7b3eBIgxIBiSPewJyztnPFJ4ALwS3AU2hz3ENGQBGsnPTVZm0KtNzmCkKoON/2mJc4n88hxBJx0GQzWnK5JWVadj2foUqjG3qZ7+ILmz/k2mGwT+rpBA2WbHs7hIYw4kZMzBgjLeFjWK01KFNgdVpuaWOIb7OtfN2Lx77mnCccPBaPZi0X2OcSYLiQDGEucTjnu6LXOvSMN47oSp2cs7vcHgQPlCrnspQnXlePqt+W8E8sWkX4RxMuhsGzt9xh4nH5yrrLKwZNYByCNealean1+Bx/pD2TPhb+1qcUmbm/tapXm/cpe0G8+aA4/wBE0NG4cgFKRv8AJRNQcepQLRbKbG3nkNG9zgOk5oCFoEb/ACTyPi8lydu7aUG4U2F53yWN6kT5LAtva20PwaW0x+gY/ucSekKHrKK4M9FtNqZTbefUawb3ECeW88lw22e1tRz4oOLGD3oF5/Ez+Ubhnv3Dl6lVzjec4udqXEk9So3lGtNlLKRfqbSrOMuq1CeL3+qA+qXGXEuO8kk+aBKUrMoKXpMeQZBIIyIMEciEKUpQFNyj2otbIAqkgaOax3VxF49VpWXtzWE32MfuLZYQeOc+S5GU0qlpoUR01v7W2io0tBbTafgkOjdeJ+ULn3PQbyE5yT1QWS2SosfKrh7jhKeY5oo1ker5oRKRKSRZNtUhM55KikgUQ8JJkkDD3kCo7jgmquOQHMlVy7T5Ssmb5RZZj8+isWenBBc3UceIPVUqT1cpPIyOG7cj6DS7LFqxJN4dTjzA3KvTJD8dJA7xOsmDlmdMER7xqT0npoq8p59GT6L9K0zN5zsGXRgxsAE90E4xiCYEnjmuk7G1mAwSLxkfnMxhAuXYiTnenNcZf+/VbewKxBPffGYDTWhhvDFzWZzhvngtMOMjSp6Tdbv8091vxef0XP19pA1KTWknWSD3sCJjrr9dm83iupOmUQe634h1+iV1vxDqfRCN3esT+pNNqawOF0NcMCDJJywnGQNyTcHx/iOghvxffRM64Pe80IFu8rO2pb2MY8TLgycScZmcgTgByxGITbgLNL9Oox7Za8xLhgR7pLdOSy7T2Ys7yXOLi46l7nHqXLJ2FtG5ZwXnFzpaJZEF8GIMjDhqF1jLpAM5ic1GWtLsp5j6MBvY+zT+Z/K8iO7JWXS9+53qt0Nbx6/RP7NvHr9E+OfwJo5p/Y2znJ7x/d6goB7GU9Hv6t/1XWeyHFM8NAnQcUcMhNHG2jsh8NQ+LWu+RCpVOyVQZPB/tcPlK7uzPa9jXj3gDnlImFNzWjMx4pcMh2ecu7NVxqzq/wDlqm3szXPvM/z/ANV3z6zBqfvmud2n2uosltMX3bw7ujm7XwlJ5yvYJtmJ/wDla29vR/8Aqs6vZKbDDqwJGYYwu8JJAUto7erVsHOhvws7rfHV3iVmys28/RST+wlVzZ7t6P1RPlkhppSkKRhXOEYZoadjScgTyBKuWfZNd+VNw4u7o/yiUJAUklo1NhWge5PJzT/Kru2dWGdJ/gxx8wERhCskj/gqv/E/9j/RN+Cq/wDG/wDY70RAgFJG/BVf+N/7HeiSIxwpue7SFXe8ziACjVmEREk/e/RVCcVkzpyizRjWf4VpjoVFj4RWPQwaNBlRRfjqUBjlatNnLCA7VoPUYjwMjwQnDPSBPbEYeOOM7+Sv2B2pZTddiDfDHA5g5kO3YtOMbiqb3Shgq8sh5h0FS3B9RhIIIBvAuviQCcDeGHiF21mqNc0OmeUHHqfmV5mypHejEY5xjpkugsHaljWkPpumc2Emed90+a2xtJ9mfBmztzaQY1tx2N8SSJAiTBjWR5FctZbe82gOLr0d0G9GEyPzDy4qrb9ose8uY0sl0nPE7yC4gmSd2arWd4BdgDOUtneSRDhdOSh7ui3iI9C2dtFtRr3QRdcRgQRgB72RXI7dtBL3jeAReuOOUzhIE9RKhsfaJa2o1znNBJxABjMnWZ0yMTnos175ccSZkDGJGkz4J61yyhcYxrNaCGFsnlpnPr1XaWTbAHsWwQDIM3WiIMQcBhuzyXEGkZgY5YCcyrTLQ5j2kS3TC9OOBi94+aWdT0GlWemXxuPX6JB43HqqtjtAcxri0yRjOHjE4I3tG/D5ldZHEMa3PqVnbYtLm03FowjE3gPDE/wrZePh8yuV2ztWm5723GuAbdB714O1MzEZabuKjbSQ4avZu1tLLoIvZkTBwwk78h1C2GWoEuG4wcTuB38VxOwdoXBBOEnC/TaDloReJz1jRaWyrc32jg6ASYEk5nCMIGizzrpIIdI66dB5oLqLDmAeYB+akH8B5+qldPw/NaxC4lV+zqJzpsPNjD/CF/SKH/FT/Y30V6YzEdfVK83j9+KOK/BwpDZNEf8Azp/sZ6IzLGwZNA5NaP4Rb3BKTuRxQcRCk3d5qQYz4fMqMHcU907k4hcWEAZ8A++aRDD7g+XyTBnPoPVAs1QPbeZiJIBymDGG9Lr0OMKaVP4PM+qi6zU9zhyPqphhUhTPBHQ4yv8AgGb3/wCKSsXDw+/BMiD7PFqgg4OnTcUOUcta4k3g0bjM5feqHQbLgCcJxMHLwXAdZbtljdTawn32k5jQnLhF0+KA1y6HadMOpBsw1gwJOUCBgMTu15Lm3YEiQYMSMjySTpKdRcsjQ54BOE455cIW3tRt5oMxGAJIAxjA6/eixbCc4OO4gY/yQtRzyR3SJIjHLpvSfsnS7M9r0xchuF0xIPL6p7ypC0gkpnExgoSh1T+mVRKXY1/FWGPWe1+KtNqyc/qpRppFkFPeUAVY2pRDC27kWjMe8BjOHim2Zr2RL5SDkGlJCu2+lDWEAYNAdG/elYNruG5sba9Omxwe4zIgAE4Rp9SrbO01ImCHgbyB/Blca16eVrny6ShLyegvtzTTL2OBEG6TOY0IzXA1asucTiSc8c9eqmy1ODCwE3TjA3xGWWOqrKtb5QllyyWkMk44yCLzmgiMu7jM8YVywWu68ubDQQci2AMNak4eazGvIbE5zhjI47tFKg7vDM5xGcxgcj8kqI7q07TDaRe26dARdInfOR8EZ+0AAwgA3joNIP8AK5HaVuDmXYiS284OdJ33muMmN/DrYtFtZdYWxg8CYAcRA7xbl5c1o/IVOjsTWjd0Tisd481Us1qa5gMThnAx4ovtm/D8luOB/a/qb0d6J/a/qb0f6IIcdGHp9ExqxmyOY+iB8Q3tv1N6O9ExtB4eaF+K/S39o9E/4o/C39jfRAQpbW2i9gaGhpDpDhMOynuY4mA7TcqvZ3aUsawvaSBgNd+OOOG4ecrM7TbYY++wEXmgAlhaATIlpAM4Z5EYaFLs+20Bgh15pAIa57gGg4YFoJOAGGAx5rne/wDfRXHo691qa1pccABJKTLY1wBg4icwue23b6oY5hYA0sMlrgSNMQYJbi0T+o6qzZtozT7zxgIMNmNMRJkTuw0V8lYTDQqbRAJhp+/7UlyVW2Nk68ZInwhJYfLr9FDi3OJ3dAPkrez4nMg6ZY8EN9Z2jgeAHzlEpPb8PPALJm/0bAqGBDgHARJmMczE/NYdop3XQSHHMxKvtdOGPWEG2Bt2bsH/ALY4796lE56B0nt0Cth85zvwjoqTIicipiodE2NoLamtAkCDz+YQGuVi+AJInzjiqZeCeCaFKWQwkYKrWbGmO8H+EZ7W3d+77Crw7RscRITHlAwVZoscd8aZ/wAKoiU2nQHwQUzTs7SDJGSv2wl7PyydCADjjnOWeYWZZhGp8fmrXtyREmNYIEzopZnxjK1N4yGmeemit1H3mRjyEec5LMqw1xA+c+aKyqhja+xMcRoihyr1HgExPHx1RGHn4poWl9hZTtwMqIBThvFUZhvbugCQQBAlrTAPMJqVQtN4Z8QD5FQDUrvFFYQLXtDnAk445c8yABA8EJrzh/4nu8UrvFOg1Tr9hPdBBYcsS6BOOEd3HiZK17x+EeS4mzbRLINxjnDJ7r5d1vLRodpXz32NI/TII6kyujHlylGXlr7OlvO+EeXqoVazmgkwOipUdtUXD80cHQD5lVdrbQBbDYOshww5t1CrW0stopro1bPaHPaHA/LNPXe8DNu7vODRjvMLF2JtFolj3NbldBd3icjgTAx0AnHHito7SLiWtbSqNF4OY8lmOgBdLX68uCS3/lMec0yNqudUcxr2Mbi4tLHhwIaQHtLSRd46y1WPbNwJquYGtm82TgBhvichqZWMGtmRSLIJlpfeIdOYEC6IgRjkESvaCRE6zjlMZ81yPX+6D9lzbFta4C697sYJcWm8IGPdHhppnoRlrqCmCXzmTBa4gTEvEbyMSdRgsG0Vbxb3TIEHEEHdAjDXMnPRWRVLCHMdJERLQDJbiLhmQMR94N6bdBoPUrNJJJx17gz6pLPqvdJ7uOskkzrPjKZSLiUThkjMf1SSQyw7XqzTMCSJOccRzSSSEUK1W8Z4pBySSYyQqjWQpXB7ue7/ANTJJiZHvbz1UajjqAeaSSBIAptcdw6BJJBQUVHb+iM16SSQhWqoYAwj0VYPTpIGiQeTgAEemwjckkmiNeg15K8kkmQOHJXkkkAKU8pJIAUp7ySSAHDk1Sqkkkxoak8jvDAjEEGCPqhvqucTI0xlxJg8deSSSF6K+xSGgAYjSdEJ9TLBOkpKRWDscEelWyJddjKGgnHI6T45YeCSVDGbSafeP7R/skkknEM//9k=\"\n",
        "res = requests.get(img_url)\n",
        "bin_data = res.content\n",
        "\n",
        "with open(\"abc.jpg\",'wb') as f:\n",
        "  f.write(bin_data)"
      ],
      "metadata": {
        "colab": {
          "base_uri": "https://localhost:8080/",
          "height": 446
        },
        "id": "gbYWtUussACt",
        "outputId": "a2410d91-3498-4df3-d641-9b465059cc9c"
      },
      "execution_count": null,
      "outputs": [
        {
          "output_type": "error",
          "ename": "InvalidSchema",
          "evalue": "ignored",
          "traceback": [
            "\u001b[0;31m---------------------------------------------------------------------------\u001b[0m",
            "\u001b[0;31mInvalidSchema\u001b[0m                             Traceback (most recent call last)",
            "\u001b[0;32m<ipython-input-11-41d9274c11eb>\u001b[0m in \u001b[0;36m<module>\u001b[0;34m\u001b[0m\n\u001b[1;32m      1\u001b[0m \u001b[0;32mimport\u001b[0m \u001b[0mrequests\u001b[0m\u001b[0;34m\u001b[0m\u001b[0;34m\u001b[0m\u001b[0m\n\u001b[1;32m      2\u001b[0m \u001b[0mimg_url\u001b[0m \u001b[0;34m=\u001b[0m \u001b[0;34m\"data:image/jpeg;base64,/9j/4AAQSkZJRgABAQAAAQABAAD/2wCEAAoHCBUWFRgWFhYYGRgaGBgZGBgZGBgaHBgaGBgaGRgYGBkcIy4lHB4rIRkYJjgnKy8xNTU1GiQ7QDszPy40NTEBDAwMEA8QHhISHzQrJSE0NDQ0NDQ0NDQ0NDQ0NDQ0NDQ0NDQ0NDQ0NDQ0NDQ0NDQ0NDQ0NDQ0NDQ0NDQ0NDQ0NP/AABEIALcBEwMBIgACEQEDEQH/xAAbAAABBQEBAAAAAAAAAAAAAAADAAECBAUGB//EADsQAAEDAQUFBQYFBAMBAQAAAAEAAhEDBBIhMUEFUWFxkQYigaHRE0JSseHwFDJiksEVgqLSU3LxQxb/xAAZAQADAQEBAAAAAAAAAAAAAAAAAQIDBAb/xAAgEQADAQACAgMBAQAAAAAAAAAAARECEiEDMRNBUWEi/9oADAMBAAIRAxEAPwCjcR2WR3JXm2ZoMwi3V2U8qsmc2zP3hJ9N40B5LRupXUUfEyr/AATXAcsCrNoowZjBCuIpMAOpEaJritNkKTWg5iEUIU7idshWXUd2KjcRQgzDPNQq09UQNVhoBRRwz7iVxWnU4UbiKKAAxTaxFDEVlOUUaQJlNGayERjI5ozROY8UqaLJWDFNtNWmsaiCklSlkqCmpCmrYppxTRyLWSn7NRNNXjTUTTRyB5KDqaiGBXXMQ3MRSHkoPYhupq69iG5iqmbyUixQLFcLE3st+CKTCpcU2UdTkj3QOKZwlFFARcBkEmuO5EuItOlqihAd08Eys3UyKOFhtbgfBEFRu/qnDISNNZ00jHEbwnuoZohN7AIogjmjVBFBgOfhKl7AKTaARQgCpSb7pQ3DQKw+kRkh3EUTQENUoBz6olxK4ikwEWJrqO0QnuA8EUcBMOhUjRCkaaYMRQIiiVNjUVjSMwURrAUUtIG1iK1iI2kURrEUtIg1iKxiIxiI1immqRAN3hP7MIzWKxRsb34tbI34AeaKWsN+igWKJYtCvY3sxc0gb8x1CrliKGsNeyk5iG6mrzqfBDNJOmbyZ72IZpq+8DcgPTpnpFQ0wM0J4lWXMQyxFM2ivcTtZKM2nKNcACKSslYUwMSkXbgiimSnIAyRRwFcO9JTkpIoi7CUJFxSkqKaUa6ldSko7LLUIvBpj58hmUPSQALqV1Oym5xhoJPALQs+y3n85AG7M+iT2l7BJszrqi5krXtWzgBLJMZg68Qs66hbWvQPMKppFNcVu6ldTooAZZydR80VtnAzEpjT3KbXnVFBQE6zY4ZKdKjHNFDwphOjSQ1yUL8OeashqI0IpaRUZKOwpezMnBSYFNKygjANyI1gUGhFaEU1yGslnvPDTlryGK6FrQMBluWFY33Hhx8eRwW8DKlnb4JH+jOaDgclzlsoXHOaMtORxC6Qlc/bKl9znDLTkM...\n\u001b[0;32m----> 3\u001b[0;31m \u001b[0mres\u001b[0m \u001b[0;34m=\u001b[0m \u001b[0mrequests\u001b[0m\u001b[0;34m.\u001b[0m\u001b[0mget\u001b[0m\u001b[0;34m(\u001b[0m\u001b[0mimg_url\u001b[0m\u001b[0;34m)\u001b[0m\u001b[0;34m\u001b[0m\u001b[0;34m\u001b[0m\u001b[0m\n\u001b[0m\u001b[1;32m      4\u001b[0m \u001b[0mbin_data\u001b[0m \u001b[0;34m=\u001b[0m \u001b[0mres\u001b[0m\u001b[0;34m.\u001b[0m\u001b[0mcontent\u001b[0m\u001b[0;34m\u001b[0m\u001b[0;34m\u001b[0m\u001b[0m\n\u001b[1;32m      5\u001b[0m \u001b[0;34m\u001b[0m\u001b[0m\n",
            "\u001b[0;32m/usr/local/lib/python3.7/dist-packages/requests/api.py\u001b[0m in \u001b[0;36mget\u001b[0;34m(url, params, **kwargs)\u001b[0m\n\u001b[1;32m     74\u001b[0m \u001b[0;34m\u001b[0m\u001b[0m\n\u001b[1;32m     75\u001b[0m     \u001b[0mkwargs\u001b[0m\u001b[0;34m.\u001b[0m\u001b[0msetdefault\u001b[0m\u001b[0;34m(\u001b[0m\u001b[0;34m'allow_redirects'\u001b[0m\u001b[0;34m,\u001b[0m \u001b[0;32mTrue\u001b[0m\u001b[0;34m)\u001b[0m\u001b[0;34m\u001b[0m\u001b[0;34m\u001b[0m\u001b[0m\n\u001b[0;32m---> 76\u001b[0;31m     \u001b[0;32mreturn\u001b[0m \u001b[0mrequest\u001b[0m\u001b[0;34m(\u001b[0m\u001b[0;34m'get'\u001b[0m\u001b[0;34m,\u001b[0m \u001b[0murl\u001b[0m\u001b[0;34m,\u001b[0m \u001b[0mparams\u001b[0m\u001b[0;34m=\u001b[0m\u001b[0mparams\u001b[0m\u001b[0;34m,\u001b[0m \u001b[0;34m**\u001b[0m\u001b[0mkwargs\u001b[0m\u001b[0;34m)\u001b[0m\u001b[0;34m\u001b[0m\u001b[0;34m\u001b[0m\u001b[0m\n\u001b[0m\u001b[1;32m     77\u001b[0m \u001b[0;34m\u001b[0m\u001b[0m\n\u001b[1;32m     78\u001b[0m \u001b[0;34m\u001b[0m\u001b[0m\n",
            "\u001b[0;32m/usr/local/lib/python3.7/dist-packages/requests/api.py\u001b[0m in \u001b[0;36mrequest\u001b[0;34m(method, url, **kwargs)\u001b[0m\n\u001b[1;32m     59\u001b[0m     \u001b[0;31m# cases, and look like a memory leak in others.\u001b[0m\u001b[0;34m\u001b[0m\u001b[0;34m\u001b[0m\u001b[0;34m\u001b[0m\u001b[0m\n\u001b[1;32m     60\u001b[0m     \u001b[0;32mwith\u001b[0m \u001b[0msessions\u001b[0m\u001b[0;34m.\u001b[0m\u001b[0mSession\u001b[0m\u001b[0;34m(\u001b[0m\u001b[0;34m)\u001b[0m \u001b[0;32mas\u001b[0m \u001b[0msession\u001b[0m\u001b[0;34m:\u001b[0m\u001b[0;34m\u001b[0m\u001b[0;34m\u001b[0m\u001b[0m\n\u001b[0;32m---> 61\u001b[0;31m         \u001b[0;32mreturn\u001b[0m \u001b[0msession\u001b[0m\u001b[0;34m.\u001b[0m\u001b[0mrequest\u001b[0m\u001b[0;34m(\u001b[0m\u001b[0mmethod\u001b[0m\u001b[0;34m=\u001b[0m\u001b[0mmethod\u001b[0m\u001b[0;34m,\u001b[0m \u001b[0murl\u001b[0m\u001b[0;34m=\u001b[0m\u001b[0murl\u001b[0m\u001b[0;34m,\u001b[0m \u001b[0;34m**\u001b[0m\u001b[0mkwargs\u001b[0m\u001b[0;34m)\u001b[0m\u001b[0;34m\u001b[0m\u001b[0;34m\u001b[0m\u001b[0m\n\u001b[0m\u001b[1;32m     62\u001b[0m \u001b[0;34m\u001b[0m\u001b[0m\n\u001b[1;32m     63\u001b[0m \u001b[0;34m\u001b[0m\u001b[0m\n",
            "\u001b[0;32m/usr/local/lib/python3.7/dist-packages/requests/sessions.py\u001b[0m in \u001b[0;36mrequest\u001b[0;34m(self, method, url, params, data, headers, cookies, files, auth, timeout, allow_redirects, proxies, hooks, stream, verify, cert, json)\u001b[0m\n\u001b[1;32m    528\u001b[0m         }\n\u001b[1;32m    529\u001b[0m         \u001b[0msend_kwargs\u001b[0m\u001b[0;34m.\u001b[0m\u001b[0mupdate\u001b[0m\u001b[0;34m(\u001b[0m\u001b[0msettings\u001b[0m\u001b[0;34m)\u001b[0m\u001b[0;34m\u001b[0m\u001b[0;34m\u001b[0m\u001b[0m\n\u001b[0;32m--> 530\u001b[0;31m         \u001b[0mresp\u001b[0m \u001b[0;34m=\u001b[0m \u001b[0mself\u001b[0m\u001b[0;34m.\u001b[0m\u001b[0msend\u001b[0m\u001b[0;34m(\u001b[0m\u001b[0mprep\u001b[0m\u001b[0;34m,\u001b[0m \u001b[0;34m**\u001b[0m\u001b[0msend_kwargs\u001b[0m\u001b[0;34m)\u001b[0m\u001b[0;34m\u001b[0m\u001b[0;34m\u001b[0m\u001b[0m\n\u001b[0m\u001b[1;32m    531\u001b[0m \u001b[0;34m\u001b[0m\u001b[0m\n\u001b[1;32m    532\u001b[0m         \u001b[0;32mreturn\u001b[0m \u001b[0mresp\u001b[0m\u001b[0;34m\u001b[0m\u001b[0;34m\u001b[0m\u001b[0m\n",
            "\u001b[0;32m/usr/local/lib/python3.7/dist-packages/requests/sessions.py\u001b[0m in \u001b[0;36msend\u001b[0;34m(self, request, **kwargs)\u001b[0m\n\u001b[1;32m    635\u001b[0m \u001b[0;34m\u001b[0m\u001b[0m\n\u001b[1;32m    636\u001b[0m         \u001b[0;31m# Get the appropriate adapter to use\u001b[0m\u001b[0;34m\u001b[0m\u001b[0;34m\u001b[0m\u001b[0;34m\u001b[0m\u001b[0m\n\u001b[0;32m--> 637\u001b[0;31m         \u001b[0madapter\u001b[0m \u001b[0;34m=\u001b[0m \u001b[0mself\u001b[0m\u001b[0;34m.\u001b[0m\u001b[0mget_adapter\u001b[0m\u001b[0;34m(\u001b[0m\u001b[0murl\u001b[0m\u001b[0;34m=\u001b[0m\u001b[0mrequest\u001b[0m\u001b[0;34m.\u001b[0m\u001b[0murl\u001b[0m\u001b[0;34m)\u001b[0m\u001b[0;34m\u001b[0m\u001b[0;34m\u001b[0m\u001b[0m\n\u001b[0m\u001b[1;32m    638\u001b[0m \u001b[0;34m\u001b[0m\u001b[0m\n\u001b[1;32m    639\u001b[0m         \u001b[0;31m# Start time (approximately) of the request\u001b[0m\u001b[0;34m\u001b[0m\u001b[0;34m\u001b[0m\u001b[0;34m\u001b[0m\u001b[0m\n",
            "\u001b[0;32m/usr/local/lib/python3.7/dist-packages/requests/sessions.py\u001b[0m in \u001b[0;36mget_adapter\u001b[0;34m(self, url)\u001b[0m\n\u001b[1;32m    726\u001b[0m \u001b[0;34m\u001b[0m\u001b[0m\n\u001b[1;32m    727\u001b[0m         \u001b[0;31m# Nothing matches :-/\u001b[0m\u001b[0;34m\u001b[0m\u001b[0;34m\u001b[0m\u001b[0;34m\u001b[0m\u001b[0m\n\u001b[0;32m--> 728\u001b[0;31m         \u001b[0;32mraise\u001b[0m \u001b[0mInvalidSchema\u001b[0m\u001b[0;34m(\u001b[0m\u001b[0;34m\"No connection adapters were found for {!r}\"\u001b[0m\u001b[0;34m.\u001b[0m\u001b[0mformat\u001b[0m\u001b[0;34m(\u001b[0m\u001b[0murl\u001b[0m\u001b[0;34m)\u001b[0m\u001b[0;34m)\u001b[0m\u001b[0;34m\u001b[0m\u001b[0;34m\u001b[0m\u001b[0m\n\u001b[0m\u001b[1;32m    729\u001b[0m \u001b[0;34m\u001b[0m\u001b[0m\n\u001b[1;32m    730\u001b[0m     \u001b[0;32mdef\u001b[0m \u001b[0mclose\u001b[0m\u001b[0;34m(\u001b[0m\u001b[0mself\u001b[0m\u001b[0;34m)\u001b[0m\u001b[0;34m:\u001b[0m\u001b[0;34m\u001b[0m\u001b[0;34m\u001b[0m\u001b[0m\n",
            "\u001b[0;31mInvalidSchema\u001b[0m: No connection adapters were found for 'data:image/jpeg;base64,/9j/4AAQSkZJRgABAQAAAQABAAD/2wCEAAoHCBUWFRgWFhYYGRgaGBgZGBgZGBgaHBgaGBgaGRgYGBkcIy4lHB4rIRkYJjgnKy8xNTU1GiQ7QDszPy40NTEBDAwMEA8QHhISHzQrJSE0NDQ0NDQ0NDQ0NDQ0NDQ0NDQ0NDQ0NDQ0NDQ0NDQ0NDQ0NDQ0NDQ0NDQ0NDQ0NDQ0NP/AABEIALcBEwMBIgACEQEDEQH/xAAbAAABBQEBAAAAAAAAAAAAAAADAAECBAUGB//EADsQAAEDAQUFBQYFBAMBAQAAAAEAAhEDBBIhMUEFUWFxkQYigaHRE0JSseHwFDJiksEVgqLSU3LxQxb/xAAZAQADAQEBAAAAAAAAAAAAAAAAAQIDBAb/xAAgEQADAQACAgMBAQAAAAAAAAAAARECEiEDMRNBUWEi/9oADAMBAAIRAxEAPwCjcR2WR3JXm2ZoMwi3V2U8qsmc2zP3hJ9N40B5LRupXUUfEyr/AATXAcsCrNoowZjBCuIpMAOpEaJritNkKTWg5iEUIU7idshWXUd2KjcRQgzDPNQq09UQNVhoBRRwz7iVxWnU4UbiKKAAxTaxFDEVlOUUaQJlNGayERjI5ozROY8UqaLJWDFNtNWmsaiCklSlkqCmpCmrYppxTRyLWSn7NRNNXjTUTTRyB5KDqaiGBXXMQ3MRSHkoPYhupq69iG5iqmbyUixQLFcLE3st+CKTCpcU2UdTkj3QOKZwlFFARcBkEmuO5EuItOlqihAd08Eys3UyKOFhtbgfBEFRu/qnDISNNZ00jHEbwnuoZohN7AIogjmjVBFBgOfhKl7AKTaARQgCpSb7pQ3DQKw+kRkh3EUTQENUoBz6olxK4ikwEWJrqO0QnuA8EUcBMOhUjRCkaaYMRQIiiVNjUVjSMwURrAUUtIG1iK1iI2kURrEUtIg1iKxiIxiI1immqRAN3hP7MIzWKxRsb34tbI34AeaKWsN+igWKJYtCvY3sxc0gb8x1CrliKGsNeyk5iG6mrzqfBDNJOmbyZ72IZpq+8DcgPTpnpFQ0wM0J4lWXMQyxFM2ivcTtZKM2nKNcACKSslYUwMSkXbgiimSnIAyRRwFcO9JTkpIoi7CUJFxSkqKaUa6ldSko7LLUIvBpj58hmUPSQALqV1Oym5xhoJPALQs+y3n85AG7M+iT2l7BJszrqi5krXtWzgBLJMZg68Qs66hbWvQPMKppFNcVu6ldTooAZZydR80VtnAzEpjT3KbXnVFBQE6zY4ZKdKjHNFDwphOjSQ1yUL8OeashqI0IpaRUZKOwpezMnBSYFNKygjANyI1gUGhFaEU1yGslnvPDTlryGK6FrQMBluWFY33Hhx8eRwW8DKlnb4JH+jOaDgclzlsoXHOaMtORxC6Qlc/bK..."
          ]
        }
      ]
    },
    {
      "cell_type": "code",
      "source": [
        "import bs4\n",
        "import requests\n",
        "url = \"https://en.wikipedia.org/wiki/List_of_countries_and_dependencies_and_their_capitals_in_native_languages\"\n",
        "res = requests.get(url)\n",
        "res.status_code\n",
        "text = res.content\n",
        "s = bs4.BeautifulSoup(text)\n",
        "# s.title.text\n",
        "# s.find('h1')\n",
        "# s.find('title')\n",
        "a = s.find_all('table')\n",
        "len(a)"
      ],
      "metadata": {
        "colab": {
          "base_uri": "https://localhost:8080/"
        },
        "id": "tT-Cqqqpu-zV",
        "outputId": "9a4bb12c-e5d2-4027-8734-c8660dd0f355"
      },
      "execution_count": null,
      "outputs": [
        {
          "output_type": "execute_result",
          "data": {
            "text/plain": [
              "34"
            ]
          },
          "metadata": {},
          "execution_count": 23
        }
      ]
    },
    {
      "cell_type": "code",
      "source": [
        "# all_table = s.find_all('table',attrs = {'class':\"wikitable\"})\n",
        "# d_table = len(all_table[3].find_all('tr'))[1:]\n",
        "# all_tds = d_table[0].find_all('td')\n",
        "# len(all_tds)"
      ],
      "metadata": {
        "colab": {
          "base_uri": "https://localhost:8080/",
          "height": 223
        },
        "id": "nJjZkVMOw96E",
        "outputId": "305a8284-20e4-4c01-94f5-9ae4553335e0"
      },
      "execution_count": null,
      "outputs": [
        {
          "output_type": "error",
          "ename": "TypeError",
          "evalue": "ignored",
          "traceback": [
            "\u001b[0;31m---------------------------------------------------------------------------\u001b[0m",
            "\u001b[0;31mTypeError\u001b[0m                                 Traceback (most recent call last)",
            "\u001b[0;32m<ipython-input-25-173dc3514cf1>\u001b[0m in \u001b[0;36m<module>\u001b[0;34m\u001b[0m\n\u001b[1;32m      1\u001b[0m \u001b[0mall_table\u001b[0m \u001b[0;34m=\u001b[0m \u001b[0ms\u001b[0m\u001b[0;34m.\u001b[0m\u001b[0mfind_all\u001b[0m\u001b[0;34m(\u001b[0m\u001b[0;34m'table'\u001b[0m\u001b[0;34m,\u001b[0m\u001b[0mattrs\u001b[0m \u001b[0;34m=\u001b[0m \u001b[0;34m{\u001b[0m\u001b[0;34m'class'\u001b[0m\u001b[0;34m:\u001b[0m\u001b[0;34m\"wikitable\"\u001b[0m\u001b[0;34m}\u001b[0m\u001b[0;34m)\u001b[0m\u001b[0;34m\u001b[0m\u001b[0;34m\u001b[0m\u001b[0m\n\u001b[0;32m----> 2\u001b[0;31m \u001b[0md_table\u001b[0m \u001b[0;34m=\u001b[0m \u001b[0mlen\u001b[0m\u001b[0;34m(\u001b[0m\u001b[0mall_table\u001b[0m\u001b[0;34m[\u001b[0m\u001b[0;36m3\u001b[0m\u001b[0;34m]\u001b[0m\u001b[0;34m.\u001b[0m\u001b[0mfind_all\u001b[0m\u001b[0;34m(\u001b[0m\u001b[0;34m'tr'\u001b[0m\u001b[0;34m)\u001b[0m\u001b[0;34m)\u001b[0m\u001b[0;34m[\u001b[0m\u001b[0;36m1\u001b[0m\u001b[0;34m:\u001b[0m\u001b[0;34m]\u001b[0m\u001b[0;34m\u001b[0m\u001b[0;34m\u001b[0m\u001b[0m\n\u001b[0m\u001b[1;32m      3\u001b[0m \u001b[0mall_tds\u001b[0m \u001b[0;34m=\u001b[0m \u001b[0md_table\u001b[0m\u001b[0;34m[\u001b[0m\u001b[0;36m0\u001b[0m\u001b[0;34m]\u001b[0m\u001b[0;34m.\u001b[0m\u001b[0mfind_all\u001b[0m\u001b[0;34m(\u001b[0m\u001b[0;34m'td'\u001b[0m\u001b[0;34m)\u001b[0m\u001b[0;34m\u001b[0m\u001b[0;34m\u001b[0m\u001b[0m\n\u001b[1;32m      4\u001b[0m \u001b[0mlen\u001b[0m\u001b[0;34m(\u001b[0m\u001b[0mall_tds\u001b[0m\u001b[0;34m)\u001b[0m\u001b[0;34m\u001b[0m\u001b[0;34m\u001b[0m\u001b[0m\n",
            "\u001b[0;31mTypeError\u001b[0m: 'int' object is not subscriptable"
          ]
        }
      ]
    },
    {
      "cell_type": "code",
      "source": [
        "import requests\n",
        "import bs4\n",
        "url = \"https://www.passiton.com/inspirational-quotes\"\n",
        "# res = requests.get(url)\n",
        "res.status_code\n",
        "data = res.content\n",
        "s = bs4.BeautifulSoup(data)\n",
        "b = s.find(\"div\",attrs={\"id\":\"all_quotes\"})\n",
        "imgs = b.find_all(\"img\")\n",
        "img_url = imgs[0].attrs['src']\n",
        "res = requests.get(img_url)\n",
        "img_content = res.content\n",
        "\n",
        "\n",
        "for idx,i in enumerate(imgs):\n",
        "  img_url = i.attrs['src']\n",
        "  res = requests.get(img_url)\n",
        "  img_content = res.content\n",
        "  with open(f\"images/quotes-{idx}.jpg\",'wb') as f:\n",
        "    f.write(img_content)\n",
        "\n"
      ],
      "metadata": {
        "colab": {
          "base_uri": "https://localhost:8080/",
          "height": 241
        },
        "id": "UmihFBe-0LjQ",
        "outputId": "74b339c4-910a-4e2f-d802-5ed971b94af9"
      },
      "execution_count": null,
      "outputs": [
        {
          "output_type": "error",
          "ename": "IndexError",
          "evalue": "ignored",
          "traceback": [
            "\u001b[0;31m---------------------------------------------------------------------------\u001b[0m",
            "\u001b[0;31mIndexError\u001b[0m                                Traceback (most recent call last)",
            "\u001b[0;32m<ipython-input-39-9af4d2b16557>\u001b[0m in \u001b[0;36m<module>\u001b[0;34m\u001b[0m\n\u001b[1;32m      8\u001b[0m \u001b[0mb\u001b[0m \u001b[0;34m=\u001b[0m \u001b[0ms\u001b[0m\u001b[0;34m.\u001b[0m\u001b[0mfind\u001b[0m\u001b[0;34m(\u001b[0m\u001b[0;34m\"div\"\u001b[0m\u001b[0;34m,\u001b[0m\u001b[0mattrs\u001b[0m\u001b[0;34m=\u001b[0m\u001b[0;34m{\u001b[0m\u001b[0;34m\"id\"\u001b[0m\u001b[0;34m:\u001b[0m\u001b[0;34m\"all_quotes\"\u001b[0m\u001b[0;34m}\u001b[0m\u001b[0;34m)\u001b[0m\u001b[0;34m\u001b[0m\u001b[0;34m\u001b[0m\u001b[0m\n\u001b[1;32m      9\u001b[0m \u001b[0mimgs\u001b[0m \u001b[0;34m=\u001b[0m \u001b[0mb\u001b[0m\u001b[0;34m.\u001b[0m\u001b[0mfind_all\u001b[0m\u001b[0;34m(\u001b[0m\u001b[0;34m\"img\"\u001b[0m\u001b[0;34m)\u001b[0m\u001b[0;34m\u001b[0m\u001b[0;34m\u001b[0m\u001b[0m\n\u001b[0;32m---> 10\u001b[0;31m \u001b[0mimg_url\u001b[0m \u001b[0;34m=\u001b[0m \u001b[0mimgs\u001b[0m\u001b[0;34m[\u001b[0m\u001b[0;36m0\u001b[0m\u001b[0;34m]\u001b[0m\u001b[0;34m.\u001b[0m\u001b[0mattrs\u001b[0m\u001b[0;34m[\u001b[0m\u001b[0;34m'src'\u001b[0m\u001b[0;34m]\u001b[0m\u001b[0;34m\u001b[0m\u001b[0;34m\u001b[0m\u001b[0m\n\u001b[0m\u001b[1;32m     11\u001b[0m \u001b[0mres\u001b[0m \u001b[0;34m=\u001b[0m \u001b[0mrequests\u001b[0m\u001b[0;34m.\u001b[0m\u001b[0mget\u001b[0m\u001b[0;34m(\u001b[0m\u001b[0mimg_url\u001b[0m\u001b[0;34m)\u001b[0m\u001b[0;34m\u001b[0m\u001b[0;34m\u001b[0m\u001b[0m\n\u001b[1;32m     12\u001b[0m \u001b[0mimg_content\u001b[0m \u001b[0;34m=\u001b[0m \u001b[0mres\u001b[0m\u001b[0;34m.\u001b[0m\u001b[0mcontent\u001b[0m\u001b[0;34m\u001b[0m\u001b[0;34m\u001b[0m\u001b[0m\n",
            "\u001b[0;31mIndexError\u001b[0m: list index out of range"
          ]
        }
      ]
    }
  ]
}